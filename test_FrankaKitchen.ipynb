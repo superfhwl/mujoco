{
 "cells": [
  {
   "cell_type": "markdown",
   "metadata": {},
   "source": [
    "## Franka Kitchen"
   ]
  },
  {
   "cell_type": "code",
   "execution_count": 7,
   "metadata": {},
   "outputs": [],
   "source": [
    "import gymnasium as gym\n",
    "import gymnasium_robotics\n",
    "from gymnasium_robotics.envs.robot_env import MujocoRobotEnv\n",
    "\n",
    "env = gym.make('FrankaKitchen-v1', tasks_to_complete=['microwave', 'kettle'], render_mode = \"human\")\n",
    "env.reset()\n",
    "obs, reward, terminated, truncated, info = env.step(env.action_space.sample())\n",
    "\n",
    "env = env.unwrapped\n",
    "\n",
    "# The following always has to hold:\n",
    "assert reward == env.compute_reward(obs[\"achieved_goal\"], obs[\"desired_goal\"], info)\n",
    "# assert truncated == env.compute_truncated(obs[\"achieved_goal\"], obs[\"desired_goal\"], info)\n",
    "# assert terminated == env.compute_terminated(obs[\"achieved_goal\"], obs[\"desired_goal\"], info)\n",
    "\n",
    "# However goals can also be substituted:\n",
    "substitute_goal = obs[\"achieved_goal\"].copy()\n",
    "substitute_reward = env.compute_reward(obs[\"achieved_goal\"], substitute_goal, info)\n",
    "# substitute_terminated = env.compute_terminated(obs[\"achieved_goal\"], substitute_goal, info)\n",
    "# substitute_truncated = env.compute_truncated(obs[\"achieved_goal\"], substitute_goal, info)\n",
    "\n",
    "for i in range(1000):\n",
    "    obs, reward, terminated, truncated, info = env.step(env.action_space.sample())\n",
    "    env.render()\n",
    "    if (terminated):\n",
    "        print(reward)\n",
    "        print(truncated)\n",
    "        print(terminated)\n",
    "        \n",
    "env.close()"
   ]
  },
  {
   "cell_type": "code",
   "execution_count": 8,
   "metadata": {},
   "outputs": [],
   "source": [
    "import gymnasium as gym\n",
    "import gymnasium_robotics\n",
    "from gymnasium_robotics.envs.robot_env import MujocoRobotEnv\n",
    "# env = gym.make('FrankaKitchen-v1', tasks_to_complete=['microwave', 'kettle'])\n",
    "\n",
    "env = gym.make(\"FetchReach-v2\", render_mode=\"human\", max_episode_steps=100)\n",
    "env.reset()\n",
    "obs, reward, terminated, truncated, info = env.step(env.action_space.sample())\n",
    "\n",
    "env = env.unwrapped\n",
    "\n",
    "\n",
    "# The following always has to hold:\n",
    "assert reward == env.compute_reward(obs[\"achieved_goal\"], obs[\"desired_goal\"], info)\n",
    "assert truncated == env.compute_truncated(obs[\"achieved_goal\"], obs[\"desired_goal\"], info)\n",
    "assert terminated == env.compute_terminated(obs[\"achieved_goal\"], obs[\"desired_goal\"], info)\n",
    "\n",
    "# However goals can also be substituted:\n",
    "substitute_goal = obs[\"achieved_goal\"].copy()\n",
    "substitute_reward = env.compute_reward(obs[\"achieved_goal\"], substitute_goal, info)\n",
    "substitute_terminated = env.compute_terminated(obs[\"achieved_goal\"], substitute_goal, info)\n",
    "substitute_truncated = env.compute_truncated(obs[\"achieved_goal\"], substitute_goal, info)\n",
    "\n",
    "for i in range(1000):\n",
    "    obs, reward, terminated, truncated, info = env.step(env.action_space.sample())\n",
    "    env.render()\n",
    "    if (terminated):\n",
    "        print(reward)\n",
    "        print(truncated)\n",
    "        print(terminated)\n",
    "        \n",
    "env.close()"
   ]
  },
  {
   "cell_type": "code",
   "execution_count": 9,
   "metadata": {},
   "outputs": [],
   "source": [
    "import gymnasium as gym\n",
    "import gymnasium_robotics\n",
    "from gymnasium_robotics.envs.robot_env import MujocoRobotEnv\n",
    "\n",
    "env = gym.make('HandManipulatePen-v1', render_mode = \"human\")\n",
    "env.reset()\n",
    "obs, reward, terminated, truncated, info = env.step(env.action_space.sample())\n",
    "\n",
    "env = env.unwrapped\n",
    "\n",
    "# The following always has to hold:\n",
    "assert reward == env.compute_reward(obs[\"achieved_goal\"], obs[\"desired_goal\"], info)\n",
    "# assert truncated == env.compute_truncated(obs[\"achieved_goal\"], obs[\"desired_goal\"], info)\n",
    "# assert terminated == env.compute_terminated(obs[\"achieved_goal\"], obs[\"desired_goal\"], info)\n",
    "\n",
    "# However goals can also be substituted:\n",
    "substitute_goal = obs[\"achieved_goal\"].copy()\n",
    "substitute_reward = env.compute_reward(obs[\"achieved_goal\"], substitute_goal, info)\n",
    "# substitute_terminated = env.compute_terminated(obs[\"achieved_goal\"], substitute_goal, info)\n",
    "# substitute_truncated = env.compute_truncated(obs[\"achieved_goal\"], substitute_goal, info)\n",
    "\n",
    "for i in range(1000):\n",
    "    obs, reward, terminated, truncated, info = env.step(env.action_space.sample())\n",
    "    env.render()\n",
    "    if (terminated):\n",
    "        print(reward)\n",
    "        print(truncated)\n",
    "        print(terminated)\n",
    "        \n",
    "env.close()\n",
    "\n"
   ]
  },
  {
   "cell_type": "code",
   "execution_count": null,
   "metadata": {},
   "outputs": [],
   "source": [
    "import gymnasium as gym\n",
    "gym.pprint_registry()"
   ]
  }
 ],
 "metadata": {
  "kernelspec": {
   "display_name": "base",
   "language": "python",
   "name": "python3"
  },
  "language_info": {
   "codemirror_mode": {
    "name": "ipython",
    "version": 3
   },
   "file_extension": ".py",
   "mimetype": "text/x-python",
   "name": "python",
   "nbconvert_exporter": "python",
   "pygments_lexer": "ipython3",
   "version": "3.11.7"
  }
 },
 "nbformat": 4,
 "nbformat_minor": 2
}
